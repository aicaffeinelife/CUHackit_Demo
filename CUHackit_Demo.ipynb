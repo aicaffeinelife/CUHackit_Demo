{
 "cells": [
  {
   "cell_type": "markdown",
   "metadata": {
    "slideshow": {
     "slide_type": "slide"
    }
   },
   "source": [
    "## A Deep Learning Blitz with Pytorch \n",
    "\n",
    "In this notebook, we are going to look at a machine learning framework called [`PyTorch`](pytorch.org) and how it can help us train and evaluate neural networks.\n"
   ]
  },
  {
   "cell_type": "markdown",
   "metadata": {
    "slideshow": {
     "slide_type": "slide"
    }
   },
   "source": [
    "## Why PyTorch\n",
    "\n",
    "<img src=\"https://cdn-images-1.medium.com/max/1600/1*5PLIVNA5fIqEC8-kZ260KQ.gif\" alt=\"dgraph\" width=500 height=400/>\n",
    "\n",
    "PyTorch provides two things out of the box:\n",
    "- Dynamic Graphs: A graph that is constructed _on demand_ \n",
    "- Clean integration with Python"
   ]
  },
  {
   "cell_type": "markdown",
   "metadata": {
    "slideshow": {
     "slide_type": "slide"
    }
   },
   "source": [
    "## Getting Data Ready \n",
    "\n",
    "We've imported our modules, now we begin with the first step in any deep learning application - getting data. We shall use CIFAR-10 as our example dataset. PyTorch provides direct downloads for the dataset as well as facilities for loading it out of the box. We shall take advantage of that fact. \n",
    "\n",
    "There are two _subsets_ in any dataset. If not done for us, we usually split our datasets into 2 categories:\n",
    "- Training Set: The set of images/data which are shown during the training phase\n",
    "- Validation Set: The set of images/data which are shown during the validation phase. "
   ]
  },
  {
   "cell_type": "code",
   "execution_count": 1,
   "metadata": {
    "slideshow": {
     "slide_type": "subslide"
    }
   },
   "outputs": [],
   "source": [
    "## necessary imports \n",
    "\n",
    "%matplotlib inline \n",
    "\n",
    "import os \n",
    "import torch \n",
    "import torch.nn as nn \n",
    "import torch.nn.functional as F\n",
    "import torch.optim as optim\n",
    "import torchvision \n",
    "import torchvision.transforms as transforms\n",
    "import torchvision.datasets as dsets \n",
    "import torch.utils.data as data\n",
    "import numpy as np\n",
    "\n",
    "import matplotlib.pyplot as plt \n"
   ]
  },
  {
   "cell_type": "code",
   "execution_count": 2,
   "metadata": {
    "slideshow": {
     "slide_type": "subslide"
    }
   },
   "outputs": [
    {
     "name": "stdout",
     "output_type": "stream",
     "text": [
      "Files already downloaded and verified\n",
      "Files already downloaded and verified\n"
     ]
    }
   ],
   "source": [
    "# Define some transforms to the images\n",
    "cifar_train_transforms = transforms.Compose([\n",
    "    transforms.RandomCrop(32, padding=4), # present random crops of the input image \n",
    "    transforms.RandomHorizontalFlip(),\n",
    "    transforms.ToTensor(),\n",
    "    transforms.Normalize((0.5,0.5,0.5),(0.5,0.5,0.5))\n",
    "])\n",
    "cifar_transform = transforms.Compose([\n",
    "     transforms.ToTensor(),\n",
    "    transforms.Normalize((0.5,0.5,0.5),(0.5,0.5,0.5)) \n",
    "])\n",
    "\n",
    "\n",
    "classes = ('plane', 'car', 'bird', 'cat',\n",
    "           'deer', 'dog', 'frog', 'horse', 'ship', 'truck')\n",
    "# get train/val datasets\n",
    "train_set = dsets.CIFAR10(root='./data_cifar10', train=True, download=True, transform=cifar_transform)\n",
    "val_set = dsets.CIFAR10(root='./data_cifar10', train=False, download=True, transform=cifar_transform)\n",
    "\n",
    "\n",
    "# convert that into a 'loader'\n",
    "train_loader = data.DataLoader(train_set, batch_size=4, shuffle=True, num_workers=2)\n",
    "val_loader = data.DataLoader(val_set, batch_size=4, shuffle=False, num_workers=2)\n"
   ]
  },
  {
   "cell_type": "markdown",
   "metadata": {
    "slideshow": {
     "slide_type": "subslide"
    }
   },
   "source": [
    "For fun, let's go ahead and show some image in our training set. We shall also see some of the classes as well. \n",
    " "
   ]
  },
  {
   "cell_type": "code",
   "execution_count": 3,
   "metadata": {
    "collapsed": true,
    "slideshow": {
     "slide_type": "subslide"
    }
   },
   "outputs": [
    {
     "data": {
      "image/png": "[encoded data removed]",
      "text/plain": [
       "<Figure size 432x288 with 1 Axes>"
      ]
     },
     "metadata": {
      "needs_background": "light"
     },
     "output_type": "display_data"
    },
    {
     "name": "stdout",
     "output_type": "stream",
     "text": [
      "truck horse horse deer\n"
     ]
    },
    {
     "name": "stderr",
     "output_type": "stream",
     "text": [
      "Process Process-1:\n",
      "Process Process-2:\n",
      "Traceback (most recent call last):\n",
      "Traceback (most recent call last):\n",
      "  File \"/Users/ankitkulshrestha/anaconda3/envs/ai/lib/python3.5/multiprocessing/process.py\", line 252, in _bootstrap\n",
      "    self.run()\n",
      "  File \"/Users/ankitkulshrestha/anaconda3/envs/ai/lib/python3.5/multiprocessing/process.py\", line 252, in _bootstrap\n",
      "    self.run()\n",
      "  File \"/Users/ankitkulshrestha/anaconda3/envs/ai/lib/python3.5/multiprocessing/process.py\", line 93, in run\n",
      "    self._target(*self._args, **self._kwargs)\n",
      "  File \"/Users/ankitkulshrestha/anaconda3/envs/ai/lib/python3.5/multiprocessing/process.py\", line 93, in run\n",
      "    self._target(*self._args, **self._kwargs)\n",
      "  File \"/Users/ankitkulshrestha/anaconda3/envs/ai/lib/python3.5/site-packages/torch/utils/data/dataloader.py\", line 52, in _worker_loop\n",
      "    r = index_queue.get()\n",
      "  File \"/Users/ankitkulshrestha/anaconda3/envs/ai/lib/python3.5/site-packages/torch/utils/data/dataloader.py\", line 52, in _worker_loop\n",
      "    r = index_queue.get()\n",
      "  File \"/Users/ankitkulshrestha/anaconda3/envs/ai/lib/python3.5/multiprocessing/queues.py\", line 335, in get\n",
      "    res = self._reader.recv_bytes()\n",
      "  File \"/Users/ankitkulshrestha/anaconda3/envs/ai/lib/python3.5/multiprocessing/queues.py\", line 335, in get\n",
      "    res = self._reader.recv_bytes()\n",
      "  File \"/Users/ankitkulshrestha/anaconda3/envs/ai/lib/python3.5/multiprocessing/connection.py\", line 216, in recv_bytes\n",
      "    buf = self._recv_bytes(maxlength)\n",
      "  File \"/Users/ankitkulshrestha/anaconda3/envs/ai/lib/python3.5/multiprocessing/connection.py\", line 216, in recv_bytes\n",
      "    buf = self._recv_bytes(maxlength)\n",
      "  File \"/Users/ankitkulshrestha/anaconda3/envs/ai/lib/python3.5/multiprocessing/connection.py\", line 407, in _recv_bytes\n",
      "    buf = self._recv(4)\n",
      "  File \"/Users/ankitkulshrestha/anaconda3/envs/ai/lib/python3.5/multiprocessing/connection.py\", line 407, in _recv_bytes\n",
      "    buf = self._recv(4)\n",
      "  File \"/Users/ankitkulshrestha/anaconda3/envs/ai/lib/python3.5/multiprocessing/connection.py\", line 379, in _recv\n",
      "    chunk = read(handle, remaining)\n",
      "  File \"/Users/ankitkulshrestha/anaconda3/envs/ai/lib/python3.5/multiprocessing/connection.py\", line 379, in _recv\n",
      "    chunk = read(handle, remaining)\n",
      "KeyboardInterrupt\n",
      "KeyboardInterrupt\n"
     ]
    }
   ],
   "source": [
    "def imshow(im_tensor):\n",
    "    \"\"\"\n",
    "    show an input tensor \n",
    "    as an image\n",
    "    \"\"\"\n",
    "    img = im_tensor/2 + 0.5 \n",
    "    img = img.cpu().numpy()\n",
    "    plt.imshow(np.transpose(img, (2,1,0)))\n",
    "    plt.show() \n",
    "    \n",
    "\n",
    "# grab some images from our training set \n",
    "d_iter = iter(train_loader)\n",
    "\n",
    "img, labels = d_iter.next()\n",
    "imshow(torchvision.utils.make_grid(img))\n",
    "print(' '.join(classes[labels[j]] for j in range(4)))"
   ]
  },
  {
   "cell_type": "markdown",
   "metadata": {
    "slideshow": {
     "slide_type": "slide"
    }
   },
   "source": [
    "Sweet, we've set up our data loaders and seen some images. Note that the `batch_size` parameter controls how many images are loaded at a time. If it's set to $1$ then only one image is loaded at a time. Usually, a big `batch_size` decreases training time since:\n",
    "\n",
    "$$\n",
    " num\\_imgs = len(dataset)/batch\\_size\n",
    "$$\n",
    "\n",
    "But, you can't make `batch_size` too big since the data may not fit on your processing device."
   ]
  },
  {
   "cell_type": "markdown",
   "metadata": {
    "slideshow": {
     "slide_type": "slide"
    }
   },
   "source": [
    "## Convolutional Neural Networks \n",
    "\n",
    "![](assets/cnn.png) \n",
    "\n",
    "\n",
    "We are now going to look at different elements in a CNN and the associated PyTorch code for these elements. "
   ]
  },
  {
   "cell_type": "markdown",
   "metadata": {
    "slideshow": {
     "slide_type": "slide"
    }
   },
   "source": [
    "### Convolutional Layer \n",
    "\n",
    "<img src=\"https://cufctl.github.io/creative-inquiry/assets/img/convolution.gif\" alt=\"convolution\" width=300/>\n",
    "\n",
    "\n",
    "This gif is basically an example of what a convolutional layer does. It takes in an image $I$ and a filter $W$ and computes a _weighted_ sum of an area equal to the filter height $F_{H}$ and width $F_{W}$. In PyTorch and other libraries, convolution is generally implemented as a depth convolution i.e. the convolution operation is applied _simultaneously_ to all the channels in the image. \n",
    "\n",
    "<img src=\"http://cs231n.github.io/assets/cnn/depthcol.jpeg\" alt=\"depthcol\" width=300/> \n",
    "\n"
   ]
  },
  {
   "cell_type": "code",
   "execution_count": 4,
   "metadata": {
    "slideshow": {
     "slide_type": "subslide"
    }
   },
   "outputs": [],
   "source": [
    "## a convolutional layer in code \n",
    "\n",
    "in_size = 3\n",
    "out_size = 32 \n",
    "ksz= 3\n",
    "\n",
    "conv1 = nn.Conv2d(in_channels=in_size, out_channels=out_size, kernel_size=ksz, stride=1, padding=0, bias=False)"
   ]
  },
  {
   "cell_type": "markdown",
   "metadata": {
    "slideshow": {
     "slide_type": "slide"
    }
   },
   "source": [
    "### ReLU and MaxPool\n",
    "\n",
    "<img src=\"http://cs231n.github.io/assets/nn1/relu.jpeg\" alt=\"relu\" width=300/>\n",
    "\n",
    "The secret of power of _any_ neural networks is a non linearity. The ReLU is a simple yet very effective non-linearity that applies a thresholding operation to the output and prevents it from going negative like so:\n",
    "\n",
    "$$\n",
    " Relu(x) = max(0,x)\n",
    "$$\n"
   ]
  },
  {
   "cell_type": "markdown",
   "metadata": {
    "slideshow": {
     "slide_type": "subslide"
    }
   },
   "source": [
    "<img src=\"http://cs231n.github.io/assets/cnn/maxpool.jpeg\" alt=\"relu\" width=300/>\n",
    "\n",
    "MaxPooling operation is another operation that is used to take the maximum value in a pre-determined window. If $HxW$ was the input to a max-pool layer then it produces an output of $H/sz\\ x\\ W/sz$. Usually, $sz=2$ which means that the output size is half of the input size."
   ]
  },
  {
   "cell_type": "code",
   "execution_count": 5,
   "metadata": {
    "slideshow": {
     "slide_type": "subslide"
    }
   },
   "outputs": [],
   "source": [
    "## Relu and MaxPool \n",
    "relu = nn.ReLU(inplace=True)\n",
    "max_pool = nn.MaxPool2d(kernel_size=2, stride=2)"
   ]
  },
  {
   "cell_type": "markdown",
   "metadata": {
    "slideshow": {
     "slide_type": "slide"
    }
   },
   "source": [
    "### Building a CNN in PyTorch\n",
    "\n",
    "We'll finally look at an example of how to build a full network in PyTorch. Then we shall setup a training and evaluation routine to evaluate our network on our test dataset. "
   ]
  },
  {
   "cell_type": "code",
   "execution_count": 18,
   "metadata": {
    "slideshow": {
     "slide_type": "subslide"
    }
   },
   "outputs": [
    {
     "name": "stdout",
     "output_type": "stream",
     "text": [
      "ToyCNN(\n",
      "  (conv1): Conv2d(3, 32, kernel_size=(3, 3), stride=(1, 1), padding=(1, 1))\n",
      "  (bn1): BatchNorm2d(32, eps=1e-05, momentum=0.1, affine=True, track_running_stats=True)\n",
      "  (conv2): Conv2d(32, 64, kernel_size=(3, 3), stride=(1, 1), padding=(1, 1))\n",
      "  (bn2): BatchNorm2d(64, eps=1e-05, momentum=0.1, affine=True, track_running_stats=True)\n",
      "  (conv3): Conv2d(64, 128, kernel_size=(3, 3), stride=(1, 1), padding=(1, 1))\n",
      "  (bn3): BatchNorm2d(128, eps=1e-05, momentum=0.1, affine=True, track_running_stats=True)\n",
      "  (conv4): Conv2d(128, 128, kernel_size=(3, 3), stride=(1, 1), padding=(1, 1))\n",
      "  (bn4): BatchNorm2d(128, eps=1e-05, momentum=0.1, affine=True, track_running_stats=True)\n",
      "  (fc1): Linear(in_features=2048, out_features=128, bias=True)\n",
      "  (fc2): Linear(in_features=128, out_features=10, bias=True)\n",
      ")\n"
     ]
    }
   ],
   "source": [
    "class ToyCNN(nn.Module):\n",
    "    \"\"\"\n",
    "    A toy CNN to work with the CIFAR-10 dataset\n",
    "    \n",
    "    Args:\n",
    "    num_classes: The number of classes to predict accross\n",
    "    \"\"\"\n",
    "    def __init__(self, num_classes=10):\n",
    "        super(ToyCNN, self).__init__()\n",
    "        self._ksize = 3\n",
    "        self._num_channels = 32 \n",
    "        self.conv1 = nn.Conv2d(3, self._num_channels, self._ksize, stride=1, padding=1)\n",
    "        self.bn1 = nn.BatchNorm2d(self._num_channels)\n",
    "        self.conv2 = nn.Conv2d(self._num_channels, self._num_channels*2, self._ksize, stride=1, padding=1)\n",
    "        self.bn2 = nn.BatchNorm2d(self._num_channels*2)\n",
    "        self.conv3 = nn.Conv2d(self._num_channels*2, self._num_channels*4, self._ksize, stride=1, padding=1)\n",
    "        self.bn3 = nn.BatchNorm2d(self._num_channels*4)\n",
    "        self.conv4 = nn.Conv2d(self._num_channels*4, self._num_channels*4, self._ksize, stride=1, padding=1)\n",
    "        self.bn4 = nn.BatchNorm2d(self._num_channels*4)\n",
    "        # the features of the last convnet layer after pooling is self._num_channels*4*4*4 (32->16->8->4)\n",
    "\n",
    "        self.fc1 = nn.Linear(4*4*self._num_channels*4, self._num_channels*4) \n",
    "        self.fc2 = nn.Linear(self._num_channels*4, 10)\n",
    "        self.dropout_rate = 0.5\n",
    "                \n",
    "\n",
    "    def forward(self, x):\n",
    "        x = self.bn1(self.conv1(x)) # 32x32    \n",
    "        x = F.relu_(F.max_pool2d(x, 2)) # 16x16      \n",
    "        x = self.bn2(self.conv2(x)) #16x16    \n",
    "        x = F.relu_(F.max_pool2d(x, 2)) # 8x8      \n",
    "        x = self.bn3(self.conv3(x)) # 8x8     \n",
    "        x = F.relu_(F.max_pool2d(x, 2)) # 4x4 \n",
    "        x = F.relu_(self.bn4(self.conv4(x)))\n",
    "        x = x.view(-1, 4*4*self._num_channels*4)\n",
    "        \n",
    "        if self.dropout_rate > 0 :\n",
    "            x = F.dropout(F.relu(self.fc1(x)), p=self.dropout_rate, training=self.training)\n",
    "        else:\n",
    "            x = F.relu_(self.fc1(x))\n",
    "        return self.fc2(x)\n",
    "\n",
    "    \n",
    "### lets print our network\n",
    "toynet = ToyCNN(10)\n",
    "print(toynet)\n",
    "        "
   ]
  },
  {
   "cell_type": "markdown",
   "metadata": {
    "slideshow": {
     "slide_type": "slide"
    }
   },
   "source": [
    "### Training a network\n",
    "\n",
    "So far, we've gathered our data and built our network. We now have all the ingredients to train our network. In PyTorch there is a concept of a _Variable_ that encapsulates the _state_ of all the layers in the network. Thus we don't have to worry about computing things at different places. All the computation is handled in the Variable class."
   ]
  },
  {
   "cell_type": "code",
   "execution_count": 19,
   "metadata": {
    "slideshow": {
     "slide_type": "subslide"
    }
   },
   "outputs": [],
   "source": [
    "from torch.autograd import Variable\n",
    "\n",
    "\n",
    "def train(net, loader, optimizer, loss_fn, num_epochs=2):\n",
    "    \"\"\"\n",
    "    Train a network using PyTorch. \n",
    "    \"\"\"\n",
    "    net.train() \n",
    "    train_loss = 0.0\n",
    "    for ep in range(num_epochs):\n",
    "        for i, (data, labels) in enumerate(loader):\n",
    "            if torch.cuda.is_available():\n",
    "                data, labels = data.cuda(), labels.cuda()\n",
    "            # convert the tensors to variables \n",
    "            data, labels = Variable(data), Variable(labels)  \n",
    "            # pass the data \n",
    "            out = net(data)\n",
    "            loss = loss_fn(out, labels)     \n",
    "            optimizer.zero_grad()\n",
    "            loss.backward() \n",
    "            optimizer.step() \n",
    "            \n",
    "            # prints to see the loss             \n",
    "            train_loss += loss.item()\n",
    "            if i % 100 == 0:\n",
    "                print(\"{}/{}: {}\".format(i+1, ep+1, train_loss/100))\n",
    "                train_loss = 0.0 # refresh after every 100 minibatches \n"
   ]
  },
  {
   "cell_type": "code",
   "execution_count": null,
   "metadata": {
    "slideshow": {
     "slide_type": "subslide"
    }
   },
   "outputs": [],
   "source": [
    "## training our toy net \n",
    "optimizer = optim.Adam(toynet.parameters(), lr=1e-3)\n",
    "loss_fn = nn.CrossEntropyLoss()\n",
    "train(toynet, train_loader, optimizer, loss_fn)\n",
    "        "
   ]
  },
  {
   "cell_type": "markdown",
   "metadata": {
    "slideshow": {
     "slide_type": "slide"
    }
   },
   "source": [
    "### Evaluating Networks \n",
    "\n",
    "Once our network is trained, we are interested in finding out how it actually performs on _unseen_ data. This is the reason why neural networks have been so popular. They are able to learn from limited data and _generalize_ it to vastly different data. We shall now look at ways to do so. \n",
    "\n"
   ]
  },
  {
   "cell_type": "code",
   "execution_count": 21,
   "metadata": {
    "slideshow": {
     "slide_type": "subslide"
    }
   },
   "outputs": [
    {
     "data": {
      "image/png": "[encoded data removed]",
      "text/plain": [
       "<Figure size 432x288 with 1 Axes>"
      ]
     },
     "metadata": {
      "needs_background": "light"
     },
     "output_type": "display_data"
    },
    {
     "name": "stdout",
     "output_type": "stream",
     "text": [
      "True Labels:cat ship ship plane \n",
      "Predicted:cat ship ship plane \n"
     ]
    }
   ],
   "source": [
    "# visual check to see if we got some predictions right \n",
    "\n",
    "titer = iter(val_loader)\n",
    "data, labels = titer.next()\n",
    "imshow(torchvision.utils.make_grid(data)) \n",
    "\n",
    "print('True Labels:{} '.format(' '.join(classes[labels[j]] for j in range(4))))\n",
    "\n",
    "# let's predict some data \n",
    "out = toynet(data)\n",
    "_, pred = torch.max(out, 1)\n",
    "\n",
    "print(\"Predicted:{} \".format(' '.join(classes[labels[j]] for j in range(4))))\n"
   ]
  },
  {
   "cell_type": "code",
   "execution_count": 24,
   "metadata": {
    "slideshow": {
     "slide_type": "subslide"
    }
   },
   "outputs": [
    {
     "name": "stdout",
     "output_type": "stream",
     "text": [
      "6432.0/10000, acc:0.6432\n"
     ]
    }
   ],
   "source": [
    "## evaluating overall accuracy\n",
    "\n",
    "def eval_net(net, loader, loss_fn):\n",
    "    net.eval()\n",
    "    total = 0\n",
    "    correct = 0.0 \n",
    "    \n",
    "    with torch.no_grad():\n",
    "        for data in loader:\n",
    "            imgs, label = data \n",
    "            output = net(imgs)\n",
    "            _, preds = torch.max(output.data, 1)\n",
    "            \n",
    "            total += label.size(0)\n",
    "            correct += (preds == label).sum().item()\n",
    "    \n",
    "    print(\"{}/{}, acc:{}\".format(correct, total, correct/total))\n",
    "    \n",
    "\n",
    "loss_fn = nn.CrossEntropyLoss()\n",
    "eval_net(toynet, val_loader, loss_fn)\n",
    "        \n",
    "        \n",
    "        "
   ]
  }
 ],
 "metadata": {
  "celltoolbar": "Slideshow",
  "kernelspec": {
   "display_name": "Python(ai)",
   "language": "python",
   "name": "ai"
  },
  "language_info": {
   "codemirror_mode": {
    "name": "ipython",
    "version": 3
   },
   "file_extension": ".py",
   "mimetype": "text/x-python",
   "name": "python",
   "nbconvert_exporter": "python",
   "pygments_lexer": "ipython3",
   "version": "3.5.5"
  },
  "livereveal": {
   "rise": {
    "theme": "solarized"
   },
   "scroll": "True"
  }
 },
 "nbformat": 4,
 "nbformat_minor": 2
}
